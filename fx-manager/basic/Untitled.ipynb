{
 "cells": [
  {
   "cell_type": "code",
   "execution_count": null,
   "metadata": {},
   "outputs": [],
   "source": [
    "from numpy import inf\n",
    "from docxtpl import DocxTemplate\n",
    "\n",
    "template = DocxTemplate('portfolio.docx')"
   ]
  },
  {
   "cell_type": "code",
   "execution_count": null,
   "metadata": {},
   "outputs": [],
   "source": [
    "class portfolio():\n",
    "    def __init__(self, balance = 100000.0, acount_type = 'standard', account_currency = 'usd', leverage = 0.01):\n",
    "        ## constants\n",
    "        lot_sizes = {\"standard\":100000.0, \"mini\":10000.0, \"micro\":1000.0, \"nono\":100.0}\n",
    "        \n",
    "        self._balance = balance\n",
    "        self._equity = balance\n",
    "        self._margin = 0.0\n",
    "        self._free_margin = balance\n",
    "        self._margin_level = inf\n",
    "        self._lot_size = lot_sizes[acount_type.strip().lower()]\n",
    "        self._account_currency = account_currency.strip().lower()\n",
    "        self._leverage = leverage\n",
    "        self._closed_profit = 0.0\n",
    "        self._open_profit = 0.0\n",
    "        self._open_loss = 0.0\n",
    "        self._risk_reward_ratio = 0.0\n",
    "        self._trades = {}\n",
    "        \n",
    "    def get_equity(self, balance, profit_loss):\n",
    "        return balance - profit ## balance - closed profit\n",
    "    \n",
    "    def get_lot_value(self, price, lot_size):\n",
    "        return price * lot_size\n",
    "    \n",
    "    def get_margin(self, lot_value, leverage, volume):\n",
    "        return lot_value * leverage * volume\n",
    "    \n",
    "    def get_free_margin(self, equity, margin):\n",
    "        return equity - margin\n",
    "    \n",
    "    def margin_level(self, equity, margin):\n",
    "        return (equity / margin) * 100\n",
    "    \n",
    "    def get_profit(self, open_lot_value, close_lot_value, volume, order_type):\n",
    "        order_types = {\"sell\":-1.0, \"buy\":1.0} ## must set profit to (close - open)\n",
    "        return (close_lot_value - open_lot_value) * volume * order_types[order_type.strip().lower()]\n",
    "    \n",
    "    def _add_trade(self, ticket, base_currency, quote_currency, volume, SL, TP, order_type, current_prices):\n",
    "        \n",
    "        if not(base_currency != self._account_currency and quote_currency != self._account_currency):\n",
    "            # FIRST GET OPEN PRICES\n",
    "            price_types = {\"sell\":\"bid\", \"buy\":\"ask\"}\n",
    "            open_price = current_prices[base_currency + quote_currency][price_types[order_type]]\n",
    "            print(type(open_price))\n",
    "\n",
    "            # NOW UPDATE PORTFOLIO STATE\n",
    "            ## 1 ## Margin\n",
    "            open_lot_value = self.get_lot_value(open_price, self._lot_size)\n",
    "            if base_currency == self._account_currency:\n",
    "                self._margin += self.get_margin(lot_value = open_lot_value, leverage = self._leverage, volume = volume) / open_price\n",
    "            else:\n",
    "                self._margin += self.get_margin(lot_value = open_lot_value, leverage = self._leverage, volume = volume)\n",
    "            \n",
    "            self._free_margin = self._equity - self._margin\n",
    "            self._margin_level = abs((self._equity - self._margin) * 100)\n",
    "            \n",
    "            ## 2 ## Profit\n",
    "            close_lot_value_SL = self.get_lot_value(SL, self._lot_size) ## base/quote lot value at SL close\n",
    "            close_lot_value_TP = self.get_lot_value(TP, self._lot_size) ## base/quote lot value at TP close\n",
    "            \n",
    "            trade_profit = self.get_profit(open_lot_value, close_lot_value_TP, volume, order_type)\n",
    "            trade_loss = self.get_profit(open_lot_value, close_lot_value_SL, volume, order_type)\n",
    "            \n",
    "            self._open_profit += trade_profit\n",
    "            self._open_loss += trade_loss\n",
    "            \n",
    "            ## 3 ## Risk/Reward ratio\n",
    "            risk_reward_ratio = abs(trade_loss / trade_profit)\n",
    "            self._risk_reward_ratio = abs(self._open_loss / self._open_profit)\n",
    "\n",
    "            self._trades[ticket] = {\n",
    "                'ticket': ticket,\n",
    "                'order_type': order_type,\n",
    "                'volume': volume,\n",
    "                'base_currency': base_currency,\n",
    "                'quote_currency': quote_currency,\n",
    "                'open_price': open_price,\n",
    "                'SL': SL,\n",
    "                'TP': TP,\n",
    "                'trade_profit': trade_profit,\n",
    "                'trade_loss': trade_loss,\n",
    "                'risk_reward_ratio': risk_reward_ratio\n",
    "            }\n",
    "        \n",
    "            \n",
    "        else:\n",
    "            print(\"Trade expected profit cannot be calculated! Currency pair must contain account currency.\")\n",
    "        "
   ]
  },
  {
   "cell_type": "code",
   "execution_count": null,
   "metadata": {},
   "outputs": [],
   "source": [
    "print('Enter portfolio information')\n",
    "\n",
    "blnc = float(input('Balance: '))\n",
    "acc_type = input('Account type [standard, mini, micro, nano] : ')\n",
    "acc_crncy = input('Account currency [usd, eur, cad, aud, ...] : ')\n",
    "lvrg = float(input('Account leverage [as fraction] : '))\n",
    "\n"
   ]
  },
  {
   "cell_type": "code",
   "execution_count": null,
   "metadata": {},
   "outputs": [],
   "source": [
    "pf = portfolio(balance = blnc, acount_type = acc_type, account_currency = acc_crncy, leverage = lvrg)\n",
    "print('Porfolio created succefully!')"
   ]
  },
  {
   "cell_type": "code",
   "execution_count": null,
   "metadata": {},
   "outputs": [],
   "source": [
    "\n",
    "ticket = int(input('Ticket: '))\n",
    "base_currency = input('base_currency: ')\n",
    "quote_currency = input('quote_currency: ')\n",
    "volume = float(input('volume: '))\n",
    "SL = float(input('SL: '))\n",
    "TP = float(input('TP: '))\n",
    "order_type = input('order_type: ')\n",
    "bid = float(input('bid: '))\n",
    "ask = float(input('ask: '))\n",
    "symbol = base_currency+quote_currency\n",
    "current_prices = {symbol:{'bid':bid, 'ask':ask}}"
   ]
  },
  {
   "cell_type": "code",
   "execution_count": null,
   "metadata": {},
   "outputs": [],
   "source": [
    "pf._add_trade(ticket, base_currency, quote_currency, volume, SL, TP, order_type, current_prices)"
   ]
  },
  {
   "cell_type": "code",
   "execution_count": null,
   "metadata": {},
   "outputs": [],
   "source": [
    "#Render automated report\n",
    "template = DocxTemplate('portfolio.docx')\n",
    "template_params = pf.__dict__\n",
    "template_params.update(pf.__dict__['_trades'][ticket])\n",
    "template.render(template_params)\n",
    "template.save('New_portfolio.docx')"
   ]
  },
  {
   "cell_type": "code",
   "execution_count": null,
   "metadata": {},
   "outputs": [],
   "source": [
    "print(template_params)"
   ]
  },
  {
   "cell_type": "code",
   "execution_count": null,
   "metadata": {},
   "outputs": [],
   "source": []
  }
 ],
 "metadata": {
  "kernelspec": {
   "display_name": "Python 3",
   "language": "python",
   "name": "python3"
  },
  "language_info": {
   "codemirror_mode": {
    "name": "ipython",
    "version": 3
   },
   "file_extension": ".py",
   "mimetype": "text/x-python",
   "name": "python",
   "nbconvert_exporter": "python",
   "pygments_lexer": "ipython3",
   "version": "3.7.4"
  }
 },
 "nbformat": 4,
 "nbformat_minor": 2
}
